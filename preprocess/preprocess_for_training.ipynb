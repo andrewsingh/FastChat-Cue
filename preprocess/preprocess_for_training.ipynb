{
 "cells": [
  {
   "cell_type": "code",
   "execution_count": 1,
   "metadata": {},
   "outputs": [],
   "source": [
    "import json\n",
    "import re\n",
    "import pandas as pd\n",
    "pd.set_option('display.max_rows', 150)\n",
    "pd.set_option('display.max_colwidth', None)\n",
    "\n",
    "from transformers import AutoTokenizer\n",
    "from tqdm import tqdm\n",
    "from nltk import sent_tokenize\n",
    "from collections import defaultdict\n",
    "\n",
    "from prompts import prospect_lm_v2_system_message"
   ]
  },
  {
   "cell_type": "code",
   "execution_count": 2,
   "metadata": {},
   "outputs": [],
   "source": [
    "llama_tokenizer = AutoTokenizer.from_pretrained(\n",
    "        \"meta-llama/Llama-2-7b-hf\",\n",
    "        model_max_length=2048,\n",
    "        padding_side=\"right\",\n",
    "        use_fast=False,\n",
    ")\n",
    "\n",
    "def llama_seq_len(text):\n",
    "    return len(llama_tokenizer(text)['input_ids']) + 6"
   ]
  },
  {
   "cell_type": "code",
   "execution_count": 121,
   "metadata": {},
   "outputs": [],
   "source": [
    "# segment_topic_pairs = []\n",
    "# for call in new_calls:\n",
    "#     for segment in call['segments']:\n",
    "#         segment_topic_pairs.append((segment['text'], segment['topics']))\n",
    "\n",
    "# segment_topic_df = pd.DataFrame(segment_topic_pairs, columns=['text', 'topics'])"
   ]
  },
  {
   "cell_type": "code",
   "execution_count": 122,
   "metadata": {},
   "outputs": [],
   "source": [
    "with open('/Users/andrew/dev/FastChat-Cue/preprocess/data/enriched_domains_with_empty_values_filled.json', \"r\") as f:\n",
    "    enriched_domains = json.load(f)\n",
    "\n",
    "domain_dict = {record['domain']: record for record in enriched_domains}"
   ]
  },
  {
   "cell_type": "code",
   "execution_count": 123,
   "metadata": {},
   "outputs": [],
   "source": [
    "# category_line_map = {\n",
    "#     \"Lifecycle Marketing\": \"They want to use Hightouch to make their lifecycle marketing more effective.\",\n",
    "#     \"Performance Marketing\": \"They want to use Hightouch to make their performance marketing more effective.\",\n",
    "#     \"B2B SaaS (PLG)\": \"They want to use Hightouch to give more insights and lead prioritization to their sales team.\",\n",
    "#     \"CDP Compete\": \"They are evaluating Hightouch versus traditional CDPs like Segment, MParticle, and Simon Data.\",\n",
    "#     \"Census Compete\": \"They are evaluating Hightouch versus other Reverse ETL providers like Census.\",\n",
    "#     \"LiveRamp Compete\": \"They are evaluating Hightouch versus other data enrichment and ad performance boosting solutions like LiveRamp.\"\n",
    "# }    "
   ]
  },
  {
   "cell_type": "code",
   "execution_count": 124,
   "metadata": {},
   "outputs": [],
   "source": [
    "with open(\"/Users/andrew/dev/account-research/speech_to_text/data/intro_detailed_calls.json\", \"r\") as f:\n",
    "    raw_data = json.load(f)\n",
    "\n",
    "id_to_raw_call = {call['metaData']['id']: call for call in raw_data}"
   ]
  },
  {
   "cell_type": "code",
   "execution_count": 3,
   "metadata": {},
   "outputs": [],
   "source": [
    "def clean_text(text):\n",
    "    text_hightouch = re.sub(r\"hi(gh)?(\\s|-)?(touch|tech|treasure|tax|test|tips|tension|towers|tex)\", \"Hightouch\", text, flags=re.IGNORECASE)\n",
    "    return text_hightouch.strip()\n",
    "\n",
    "\n",
    "def normalize_industry(industry):\n",
    "    if not industry:\n",
    "        return None\n",
    "    return industry.lower().replace('&', 'and').strip()\n",
    "\n",
    "\n",
    "def get_info_record(company_info):\n",
    "    info_record = {}\n",
    "    for elem in company_info:\n",
    "        if elem['name'] == \"Name\" and elem['name'] in info_record:\n",
    "            curr_name = info_record[elem['name']]\n",
    "            new_name = elem['value']\n",
    "            if new_name and curr_name and len(new_name) < len(curr_name):\n",
    "                info_record[elem['name']] = new_name\n",
    "        else:\n",
    "            info_record[elem['name']] = elem['value']\n",
    "\n",
    "    if 'Website' in info_record and info_record['Website'] in domain_dict:\n",
    "        info_record['domain'] = info_record['Website']\n",
    "        source_record = domain_dict[info_record['Website']]\n",
    "        if 'description' in source_record:\n",
    "            info_record['description'] = source_record['description']\n",
    "        elif 'organization' in source_record and 'short_description' in source_record['organization']:\n",
    "            info_record['description'] = source_record['organization']['short_description']\n",
    "\n",
    "        if 'Industry' not in info_record:\n",
    "            if 'category' in source_record:\n",
    "                info_record['Industry'] = source_record['category']['industry']\n",
    "            elif 'organization' in source_record:\n",
    "                info_record['Industry'] = source_record['organization']['industry']\n",
    "    \n",
    "    for key in ['Industry', 'description', 'domain', 'NumberOfEmployees']:\n",
    "        if key not in info_record:\n",
    "            info_record[key] = None\n",
    "\n",
    "    if info_record['description'] and info_record['description'].strip().endswith('...'):\n",
    "        description_sents = sent_tokenize(info_record['description'])\n",
    "        new_desc = \" \".join(description_sents[:-1])\n",
    "        info_record['description'] = new_desc\n",
    "\n",
    "    if info_record['description']:\n",
    "        info_record['description'] = info_record['description'].split('\\n\\n')[0].strip()\n",
    "\n",
    "    filtered_record = {\n",
    "        \"name\": info_record['Name'],\n",
    "        \"industry\": normalize_industry(info_record['Industry']),\n",
    "        \"description\": clean_description(info_record['description']),\n",
    "        \"domain\": info_record['domain'],\n",
    "        \"number_of_employees\": info_record['NumberOfEmployees'],\n",
    "    }\n",
    "\n",
    "    return filtered_record\n",
    "\n",
    "\n",
    "def clean_description(description, max_desc_len=80, margin=10):\n",
    "    if not description:\n",
    "        return description\n",
    "    description = description.strip()\n",
    "    if description.endswith('...'):\n",
    "        description_sents = sent_tokenize(description)\n",
    "        description = \" \".join(description_sents[:-1])\n",
    "\n",
    "    description = description.split('\\n\\n')[0].strip()\n",
    "    if llama_seq_len(description) > max_desc_len:\n",
    "        description_sents = sent_tokenize(description)\n",
    "        total_len = 0\n",
    "        new_sents = []\n",
    "        for sent in description_sents:\n",
    "            sent_len = llama_seq_len(sent)\n",
    "            if total_len + sent_len <= max_desc_len + margin:\n",
    "                new_sents.append(sent)\n",
    "                total_len += sent_len\n",
    "            else:\n",
    "                break\n",
    "        description = \" \".join(new_sents)\n",
    "\n",
    "    if len(description) == 0:\n",
    "        description = None\n",
    "    return description\n",
    "\n",
    "\n",
    "\n",
    "def get_system_message_v1(company_info, categories):\n",
    "    category_lines = \"\\n\".join(['- ' + category_line_map[category] for category in categories if category in category_line_map])\n",
    "    industry_starts_with_vowel = company_info['industry'] and company_info['industry'][0].lower() in ['a', 'e', 'i', 'o', 'u']\n",
    "    system_message = f\"A sales call between a sales representative at Hightouch, a data integration company, and a prospect at {company_info['name']}, a{'n' if industry_starts_with_vowel else ''} {company_info['industry'].lower() + ' ' if company_info['industry'] else ''}company. Hightouch helps companies get data into business tools. The prospect's goal is to understand how Hightouch compares to their current solution for syncing data into business tools and how Hightouch can deliver value for the prospect's business. The prospect answers any questions that the sales rep asks them. The prospect also asks questions to the sales rep in order to learn more about Hightouch and how it can help the prospect's business.\"\n",
    "    cleaned_description = clean_description(company_info['description'])\n",
    "    if cleaned_description:\n",
    "        system_message += f\"\\n\\nHere is a description of {company_info['name']}:\\n{cleaned_description}\"\n",
    "    if len(category_lines) > 0:\n",
    "        system_message += f\"\\n\\nHere is some additional information about how {company_info['name']} is considering to use Hightouch:\\n{category_lines}\"\n",
    "    return system_message.strip()\n",
    "\n",
    "\n",
    "def get_example_from_call(call):\n",
    "    call_id = call['metadata']['id']\n",
    "    conversations = []\n",
    "    bad_topics = set(['Small Talk', 'Wrap-Up', 'Next Steps - Scheduliing'])\n",
    "    sales_rep_count = defaultdict(lambda: 0)\n",
    "    prospect_count = defaultdict(lambda: 0)\n",
    "    for segment in call['segments']:\n",
    "        segment_topics = set(segment['topics'])\n",
    "        segment_text_cleaned = clean_text(segment['text'])\n",
    "        if (len(segment_topics) == 0 or (not segment_topics.issubset(bad_topics))) and len(segment_text_cleaned) > 0:\n",
    "            speaker = \"sales rep\" if segment['speakerAffiliation'] == \"Internal\" else \"prospect\"\n",
    "            if len(conversations) > 0 and conversations[-1]['from'] == speaker:\n",
    "                conversations[-1]['value'] += \" \" + segment_text_cleaned\n",
    "            else:\n",
    "                conversations.append({\n",
    "                    \"from\": speaker,\n",
    "                    \"value\": segment_text_cleaned,\n",
    "                    \"topic\": list(segment_topics),\n",
    "                })\n",
    "                if speaker == \"sales rep\":\n",
    "                    sales_rep_count[segment['speakerId']] += 1\n",
    "                else:\n",
    "                    prospect_count[segment['speakerId']] += 1\n",
    "    \n",
    "    if len(conversations) < 2:\n",
    "        return None\n",
    "        \n",
    "    # if len(sales_rep_count.items()) == 0 or len(prospect_count.items()) == 0:\n",
    "    #     print(call_id)\n",
    "    #     print(conversations)\n",
    "    sales_rep_id = max([(k, v) for k, v in sales_rep_count.items()], key=lambda x: x[1])[0]\n",
    "    prospect_id = max([(k, v) for k, v in prospect_count.items()], key=lambda x: x[1])[0]\n",
    "\n",
    "    raw_call = id_to_raw_call[call_id]\n",
    "    sales_rep_party = [party for party in raw_call['parties'] if party['speakerId'] == sales_rep_id][0]\n",
    "    prospect_party = [party for party in raw_call['parties'] if party['speakerId'] == prospect_id][0]\n",
    "\n",
    "    info_record = get_info_record(call['company_info'])\n",
    "    output = {\n",
    "        \"id\": call_id,\n",
    "        \"title\": call['metadata']['title'],\n",
    "        \"speaker_info\": {\n",
    "            \"sales_rep\": {\n",
    "                \"name\": sales_rep_party['name'],\n",
    "                \"title\": sales_rep_party['title'] if 'title' in sales_rep_party else None\n",
    "            },\n",
    "            \"prospect\": {\n",
    "                \"name\": prospect_party['name'],\n",
    "                \"title\": prospect_party['title'] if 'title' in prospect_party else None\n",
    "            },\n",
    "        },\n",
    "        \"company_info\": info_record,\n",
    "        \"conversations\": conversations\n",
    "    }\n",
    "    return output "
   ]
  },
  {
   "cell_type": "code",
   "execution_count": 130,
   "metadata": {},
   "outputs": [
    {
     "data": {
      "text/plain": [
       "424"
      ]
     },
     "execution_count": 130,
     "metadata": {},
     "output_type": "execute_result"
    }
   ],
   "source": [
    "with open(\"/Users/andrew/dev/account-research/speech_to_text/data/intro_calls_retranscribed_v2.json\", \"r\") as f:\n",
    "    new_calls = json.load(f)\n",
    "\n",
    "len(new_calls)"
   ]
  },
  {
   "cell_type": "code",
   "execution_count": 131,
   "metadata": {},
   "outputs": [
    {
     "name": "stdout",
     "output_type": "stream",
     "text": [
      "424\n",
      "408\n"
     ]
    }
   ],
   "source": [
    "dataset = [get_example_from_call(call) for call in new_calls]\n",
    "print(len(dataset))\n",
    "dataset = [example for example in dataset if example]\n",
    "print(len(dataset))"
   ]
  },
  {
   "cell_type": "code",
   "execution_count": 132,
   "metadata": {},
   "outputs": [
    {
     "data": {
      "text/plain": [
       "23385"
      ]
     },
     "execution_count": 132,
     "metadata": {},
     "output_type": "execute_result"
    }
   ],
   "source": [
    "total_segments = 0\n",
    "for call in dataset:\n",
    "    total_segments += len(call['conversations'])\n",
    "\n",
    "total_segments"
   ]
  },
  {
   "cell_type": "code",
   "execution_count": 133,
   "metadata": {},
   "outputs": [],
   "source": [
    "with open(\"/Users/andrew/dev/FastChat-Cue/data/prospect_lm/prospect_calls_hightouch_v2.json\", \"w+\") as f:\n",
    "    json.dump(dataset, f)"
   ]
  },
  {
   "cell_type": "code",
   "execution_count": 134,
   "metadata": {},
   "outputs": [],
   "source": [
    "prospect_titles = [call['speaker_info']['prospect']['title'] for call in dataset]"
   ]
  },
  {
   "cell_type": "code",
   "execution_count": 135,
   "metadata": {},
   "outputs": [
    {
     "data": {
      "text/plain": [
       "408"
      ]
     },
     "execution_count": 135,
     "metadata": {},
     "output_type": "execute_result"
    }
   ],
   "source": [
    "len(prospect_titles)"
   ]
  },
  {
   "cell_type": "code",
   "execution_count": 136,
   "metadata": {},
   "outputs": [
    {
     "data": {
      "text/plain": [
       "262"
      ]
     },
     "execution_count": 136,
     "metadata": {},
     "output_type": "execute_result"
    }
   ],
   "source": [
    "len([title for title in prospect_titles if title])"
   ]
  },
  {
   "cell_type": "code",
   "execution_count": 9,
   "metadata": {},
   "outputs": [],
   "source": [
    "def get_company_size(num_employees):\n",
    "    if not num_employees:\n",
    "        return None\n",
    "        \n",
    "    range_starts = [1, 2, 51, 251, 501, 1001, 10001]\n",
    "    classes = [\"Solo Entrepreneur\", \"Small Business\", \"Medium-sized Business\", \"Large Business\", \"Very Large Business\", \"Major Corporation\", \"Mega Corporation\"]\n",
    "    idx = 0\n",
    "    while idx < len(range_starts) and num_employees > range_starts[idx]:\n",
    "        idx += 1\n",
    "    return classes[idx-1].lower()\n",
    "\n",
    "\n",
    "def get_system_message_v2(call):\n",
    "    company_info = call['company_info']\n",
    "    \n",
    "    if company_info['industry']:\n",
    "        industry_starts_with_vowel = company_info['industry'][0].lower() in ['a', 'e', 'i', 'o', 'u']\n",
    "        company_appositive = f\", a{'n' if industry_starts_with_vowel else ''} {company_info['industry'].lower() + ' '}company\"\n",
    "    else:\n",
    "        company_appositive = \"\"\n",
    "\n",
    "    prospect_title = call['speaker_info']['prospect']['title']\n",
    "    if prospect_title:\n",
    "        prospect_position_sentence = f\"The prospect's position at {company_info['name']} is {prospect_title}.\"\n",
    "    else:\n",
    "        prospect_position_sentence = \"\"\n",
    "\n",
    "    formatted_prompt = prospect_lm_v2_system_message.format(\n",
    "        company_name=company_info['name'],\n",
    "        company_appositive=company_appositive,\n",
    "        sales_rep_name=call['speaker_info']['sales_rep']['name'],\n",
    "        prospect_name=call['speaker_info']['prospect']['name'],\n",
    "        prospect_position_sentence=prospect_position_sentence,\n",
    "        company_industry=company_info['industry'],\n",
    "        company_size=get_company_size(company_info['number_of_employees']),\n",
    "        company_description=company_info['description'],\n",
    "        scenario=call['scenario']\n",
    "    )\n",
    "    return formatted_prompt"
   ]
  },
  {
   "cell_type": "code",
   "execution_count": 5,
   "metadata": {},
   "outputs": [],
   "source": [
    "with open(\"/Users/andrew/dev/FastChat-Cue/preprocess/data/train/prospect_calls_hightouch_v2.json\", \"r\") as f:\n",
    "    dataset = json.load(f)\n",
    "\n",
    "with open(\"/Users/andrew/dev/FastChat-Cue/preprocess/data/scenarios/v2/prospect_calls_hightouch_v2_extracted_scenarios_call_id.json\") as f:\n",
    "    scenario_dict = json.load(f)\n",
    "\n",
    "for call in dataset:\n",
    "    call['scenario'] = scenario_dict[call['id']]"
   ]
  },
  {
   "cell_type": "code",
   "execution_count": 140,
   "metadata": {},
   "outputs": [
    {
     "data": {
      "text/plain": [
       "(408, 408)"
      ]
     },
     "execution_count": 140,
     "metadata": {},
     "output_type": "execute_result"
    }
   ],
   "source": [
    "len(dataset), len(scenario_dict)"
   ]
  },
  {
   "cell_type": "code",
   "execution_count": 10,
   "metadata": {},
   "outputs": [],
   "source": [
    "def get_example_from_call_v2(call):\n",
    "    record = {\n",
    "        \"id\": call['id'],\n",
    "        \"system_message\": get_system_message_v2(call),\n",
    "        \"conversations\": call['conversations']\n",
    "    }\n",
    "    return record"
   ]
  },
  {
   "cell_type": "code",
   "execution_count": 11,
   "metadata": {},
   "outputs": [],
   "source": [
    "train_examples = [get_example_from_call_v2(call) for call in dataset]    "
   ]
  },
  {
   "cell_type": "code",
   "execution_count": 12,
   "metadata": {},
   "outputs": [
    {
     "name": "stdout",
     "output_type": "stream",
     "text": [
      "The following is a transcript of an introductory sales call between a sales representative at Hightouch, a data integration company, and a prospect at Saras Analytics, an internet software and services company. The sales rep at Hightouch is John Alderman, and the prospect at Saras Analytics is Ashraf. \n",
      "\n",
      "Hightouch overview:\n",
      "CDPs are used to help companies get data into their business tools like their marketing tools to run more targeted and effective campaigns. Hightouch provides a Composable CDP solution by helping companies leverage the data in their data warehouse for marketing campaigns. Hightouch syncs data from warehouses directly into SaaS tools to enable personalized marketing, sales and support experiences. It is different from a traditional CDP like Segment because traditional CDPs are less flexible.\n",
      "\n",
      "Saras Analytics information:\n",
      "Industry: internet software and services\n",
      "Size: medium-sized business\n",
      "Description: Saras Analytics is a data management company that aids in growth by solving data challenges for e-commerce brands, aggregators, and agencies alike.\n",
      "\n",
      "Key points from transcript:\n",
      "Use case: \n",
      "- Saras Analytics is using Hightouch to create a customer table or customer 360 for VPN and push segments to ad platforms like Google, Bing, and TikTok. They are trying to sync data from BigQuery to these platforms to provide visibility and insights to brands.\n",
      "\n",
      "Current solution:\n",
      "- Saras Analytics is currently using dbt to define tables in BigQuery and create customer segments. They are pushing these segments from BigQuery to Hightouch to sync with ad platforms. They are facing authentication issues with Facebook and have filled out a form provided by Hightouch to resolve the issue.\n",
      "\n",
      "Objections:\n",
      "- The prospect is unsure if the additional features of Hightouch, such as the no-code interface for segmentation, would provide significant value for VPN at the moment. They are primarily focused on the core use case of syncing segments to ad platforms.\n",
      "\n",
      "Competition:\n",
      "- No specific competitors are mentioned in the transcript.\n",
      "\n",
      "Transcript:\n",
      "\n"
     ]
    }
   ],
   "source": [
    "print(train_examples[0]['system_message'])"
   ]
  },
  {
   "cell_type": "code",
   "execution_count": 26,
   "metadata": {},
   "outputs": [],
   "source": [
    "system_message_lens = [llama_seq_len(example['system_message']) for example in train_examples]"
   ]
  },
  {
   "cell_type": "code",
   "execution_count": 27,
   "metadata": {},
   "outputs": [
    {
     "data": {
      "text/plain": [
       "<Axes: ylabel='Frequency'>"
      ]
     },
     "execution_count": 27,
     "metadata": {},
     "output_type": "execute_result"
    },
    {
     "data": {
      "image/png": "[encoded data removed]",
      "text/plain": [
       "<Figure size 640x480 with 1 Axes>"
      ]
     },
     "metadata": {},
     "output_type": "display_data"
    }
   ],
   "source": [
    "pd.DataFrame(system_message_lens).plot.hist()"
   ]
  },
  {
   "cell_type": "code",
   "execution_count": 15,
   "metadata": {},
   "outputs": [],
   "source": [
    "scenarios = list(scenario_dict.values())"
   ]
  },
  {
   "cell_type": "code",
   "execution_count": 22,
   "metadata": {},
   "outputs": [],
   "source": [
    "scenario = scenarios[0]\n",
    "competitions = [re.search(r\"Competition:[\\s\\S]+\", scenario).group(0) for scenario in scenarios]\n"
   ]
  },
  {
   "cell_type": "code",
   "execution_count": 25,
   "metadata": {},
   "outputs": [
    {
     "data": {
      "text/html": [
       "<div>\n",
       "<style scoped>\n",
       "    .dataframe tbody tr th:only-of-type {\n",
       "        vertical-align: middle;\n",
       "    }\n",
       "\n",
       "    .dataframe tbody tr th {\n",
       "        vertical-align: top;\n",
       "    }\n",
       "\n",
       "    .dataframe thead th {\n",
       "        text-align: right;\n",
       "    }\n",
       "</style>\n",
       "<table border=\"1\" class=\"dataframe\">\n",
       "  <thead>\n",
       "    <tr style=\"text-align: right;\">\n",
       "      <th></th>\n",
       "      <th>0</th>\n",
       "    </tr>\n",
       "  </thead>\n",
       "  <tbody>\n",
       "    <tr>\n",
       "      <th>36</th>\n",
       "      <td>Competition: The prospect is considering Snowflake as an alternative to BigQuery and is using Google Sheets as their current solution for data manipulation.</td>\n",
       "    </tr>\n",
       "    <tr>\n",
       "      <th>357</th>\n",
       "      <td>Competition: There is no mention of any specific competitors to Hightouch that Zego is considering or currently using.</td>\n",
       "    </tr>\n",
       "    <tr>\n",
       "      <th>147</th>\n",
       "      <td>Competition:\\n- No competitors mentioned in the transcript.</td>\n",
       "    </tr>\n",
       "    <tr>\n",
       "      <th>398</th>\n",
       "      <td>Competition: The prospect is considering other solutions like Supermetrics and Coefficient.</td>\n",
       "    </tr>\n",
       "    <tr>\n",
       "      <th>84</th>\n",
       "      <td>Competition:\\n- DoubleVerify has had conversations with Census, another reverse ETL solution similar to Hightouch. They are considering different options and evaluating how each solution can meet their needs.</td>\n",
       "    </tr>\n",
       "    <tr>\n",
       "      <th>181</th>\n",
       "      <td>Competition: Fivetran is currently being used by Achievers, but they are open to exploring other options in the market, such as Hightouch.</td>\n",
       "    </tr>\n",
       "    <tr>\n",
       "      <th>305</th>\n",
       "      <td>Competition: \\n- Sunstate Equipment is considering Salesforce and PipeDrive as potential CRMs to migrate to. They are looking for a solution that allows them to integrate with different best-in-class tools and avoid using extensions in CRM app stores. They are also interested in exploring other tools like Badger Maps for territory management and would prefer to integrate directly with these tools using Hightouch's generic destinations or by requesting additions to Hightouch's destination list.</td>\n",
       "    </tr>\n",
       "    <tr>\n",
       "      <th>7</th>\n",
       "      <td>Competition:\\n- Clearbit is mentioned as a competitor to Hightouch for the company's current use case of offline conversions and audience building.</td>\n",
       "    </tr>\n",
       "    <tr>\n",
       "      <th>202</th>\n",
       "      <td>Competition:\\n- The prospect mentions potential competitors or tools they may consider using in the future, such as Salesforce, Intercom, and other customer support tools. They also mention using custom integrations with tools like Twilio and SendGrid.</td>\n",
       "    </tr>\n",
       "    <tr>\n",
       "      <th>256</th>\n",
       "      <td>Competition: No specific competitors were mentioned in the transcript.</td>\n",
       "    </tr>\n",
       "    <tr>\n",
       "      <th>193</th>\n",
       "      <td>Competition: No specific competitors were mentioned in the transcript.</td>\n",
       "    </tr>\n",
       "    <tr>\n",
       "      <th>344</th>\n",
       "      <td>Competition: There was no mention of any competitors to Hightouch in the transcript.</td>\n",
       "    </tr>\n",
       "    <tr>\n",
       "      <th>220</th>\n",
       "      <td>Competition: VeryChic is evaluating internal solutions like Snowflake and Referee as alternatives to Hightouch.</td>\n",
       "    </tr>\n",
       "    <tr>\n",
       "      <th>119</th>\n",
       "      <td>Competition:\\n- The prospect mentioned doing research on various software platforms and found Hightouch on G2. It is unclear if they are considering any other competitors.</td>\n",
       "    </tr>\n",
       "    <tr>\n",
       "      <th>31</th>\n",
       "      <td>Competition:\\n- The prospect mentions Segment as a CDP they have worked with in the past, but they are open to exploring other options.</td>\n",
       "    </tr>\n",
       "    <tr>\n",
       "      <th>318</th>\n",
       "      <td>Competition:\\n- The prospect mentioned considering Salesforce's Pardot as a marketing automation tool.\\n- They are also exploring other options such as HubSpot.</td>\n",
       "    </tr>\n",
       "    <tr>\n",
       "      <th>297</th>\n",
       "      <td>Competition:\\n- No specific competitors mentioned.</td>\n",
       "    </tr>\n",
       "    <tr>\n",
       "      <th>341</th>\n",
       "      <td>Competition:\\n- The prospect is not currently using any specific competitors to Hightouch, but they are exploring other marketing automation platforms outside of Salesforce Pardot.</td>\n",
       "    </tr>\n",
       "    <tr>\n",
       "      <th>316</th>\n",
       "      <td>Competition:\\n- The prospect is considering other CDP vendors like Segment, Salesforce CDP, and MParticle.\\n- They are also considering sticking with Simon Data if it is the best fit for their needs.</td>\n",
       "    </tr>\n",
       "    <tr>\n",
       "      <th>20</th>\n",
       "      <td>Competition:\\n- The prospect mentions that Hightouch is one of the leading options they are considering for their reverse ETL needs. They are also evaluating other options, but do not specify which ones.</td>\n",
       "    </tr>\n",
       "    <tr>\n",
       "      <th>5</th>\n",
       "      <td>Competition:\\n- Betr is considering using tools like Talend Enterprise, Matillion, and SSIS for their data integration needs. They are also considering using Fivetran and dbt for their cloud-native technology stack.</td>\n",
       "    </tr>\n",
       "    <tr>\n",
       "      <th>135</th>\n",
       "      <td>Competition: Ria Health is considering other CDPs such as Fresh Paint, Rudder Stack, Segment, and Tilium. They are evaluating all HIPAA compliant CDPs and will make a decision based on price, capabilities, and features.</td>\n",
       "    </tr>\n",
       "    <tr>\n",
       "      <th>376</th>\n",
       "      <td>Competition: The prospect mentioned that they were considering using Segment for identity resolution, but they have not implemented it yet. They also mentioned that they were talking to Dynamic Yield for personalization, but they are interested in exploring Hightouch's personalization API as well.</td>\n",
       "    </tr>\n",
       "    <tr>\n",
       "      <th>385</th>\n",
       "      <td>Competition:\\n- StubHub is considering other alternatives, including a direct connection between BigQuery and Brace, as well as another tool recommended by Massive Rocket.</td>\n",
       "    </tr>\n",
       "    <tr>\n",
       "      <th>379</th>\n",
       "      <td>Competition: Shield Therapeutics is considering other app creators on the AppExchange but did not mention any specific competitors.</td>\n",
       "    </tr>\n",
       "    <tr>\n",
       "      <th>42</th>\n",
       "      <td>Competition: The prospect mentions ERP systems like SAP, Microsoft Dynamics 365, QuickBooks, and Workday as potential destinations for integrating Hightouch. They are interested in understanding the available ERP integrations.</td>\n",
       "    </tr>\n",
       "    <tr>\n",
       "      <th>313</th>\n",
       "      <td>Competition: The prospect mentioned that they would consider evaluating other vendors if they are not satisfied with Adobe CDP. They did not mention any specific competitors.</td>\n",
       "    </tr>\n",
       "    <tr>\n",
       "      <th>382</th>\n",
       "      <td>Competition: Continued is considering other CDPs, including Segment, as alternatives to Hightouch. They have previously evaluated Segment but were deterred by the cost.</td>\n",
       "    </tr>\n",
       "    <tr>\n",
       "      <th>275</th>\n",
       "      <td>Competition: The prospect is currently using Segment for event tracking and data feeding. They found Hightouch while searching for services that can connect Metabase to advertising platforms.</td>\n",
       "    </tr>\n",
       "    <tr>\n",
       "      <th>351</th>\n",
       "      <td>Competition: No specific competitors were mentioned in the transcript.</td>\n",
       "    </tr>\n",
       "    <tr>\n",
       "      <th>46</th>\n",
       "      <td>Competition: Removery has evaluated CDPs such as ActionIQ, BlueConic, and Segment in the past. They are open to exploring other options and are looking for a solution that can meet their specific needs and support their desired use cases.</td>\n",
       "    </tr>\n",
       "    <tr>\n",
       "      <th>331</th>\n",
       "      <td>Competition: TCARE has considered using Segment as a traditional CDP but found it to be limited in terms of their unique data model and the need to store sensitive data. They are now considering Hightouch as a solution.</td>\n",
       "    </tr>\n",
       "    <tr>\n",
       "      <th>199</th>\n",
       "      <td>Competition: The prospect mentions that they currently use Braze as their marketing activation tool and asks if Hightouch has integration with Braze. They also inquire about the possibility of creating extensions for other loyalty systems if needed.</td>\n",
       "    </tr>\n",
       "    <tr>\n",
       "      <th>232</th>\n",
       "      <td>Competition:\\n- Citylitics is considering Census and Airflow as alternative solutions to Hightouch. They are also using Fivetran for data integration.</td>\n",
       "    </tr>\n",
       "    <tr>\n",
       "      <th>141</th>\n",
       "      <td>Competition: No specific competitors were mentioned in the transcript.</td>\n",
       "    </tr>\n",
       "    <tr>\n",
       "      <th>41</th>\n",
       "      <td>Competition: The prospect is considering other vendors such as Segment and exploring the connectors provided by Braze and AEP. They are looking for a solution that can bridge the gap between Snowflake and the messaging platforms without duplicating data or compromising security.</td>\n",
       "    </tr>\n",
       "    <tr>\n",
       "      <th>239</th>\n",
       "      <td>Competition:\\n- No specific competitors mentioned, but the prospect is familiar with traditional CDPs like HubSpot and Salesforce.</td>\n",
       "    </tr>\n",
       "    <tr>\n",
       "      <th>342</th>\n",
       "      <td>Competition: There is no mention of any specific competitors to Hightouch in the transcript.</td>\n",
       "    </tr>\n",
       "    <tr>\n",
       "      <th>303</th>\n",
       "      <td>Competition: No specific competitors were mentioned in the transcript.</td>\n",
       "    </tr>\n",
       "    <tr>\n",
       "      <th>168</th>\n",
       "      <td>Competition:\\n- The prospect mentions using Twilio, Salesforce, and other platforms, but it is unclear if these are competitors to Hightouch or if they are used in conjunction with Hightouch.</td>\n",
       "    </tr>\n",
       "    <tr>\n",
       "      <th>205</th>\n",
       "      <td>Competition: The prospect mentioned a company called Improvado as a potential competitor to Hightouch. They are also considering using Fivetran for data ingestion.</td>\n",
       "    </tr>\n",
       "    <tr>\n",
       "      <th>142</th>\n",
       "      <td>Competition: The company has evaluated Salesforce CDP and considered using automotive-specific CDPs. They are also considering Snowplow as an event ingestion tool.</td>\n",
       "    </tr>\n",
       "    <tr>\n",
       "      <th>66</th>\n",
       "      <td>Competition:\\n- Material's competitors include consulting firms like Merkle, Slalom, Accenture, and Deloitte. They have similar service offerings but may not have the same scale as these larger firms.</td>\n",
       "    </tr>\n",
       "    <tr>\n",
       "      <th>246</th>\n",
       "      <td>Competition: Thefork.com is considering two or three other reverse ETL tools in addition to Hightouch. They are interested in comparing the different vendors and assessing their capabilities through demos and assessments.</td>\n",
       "    </tr>\n",
       "    <tr>\n",
       "      <th>63</th>\n",
       "      <td>Competition:\\n- The prospect mentions Salesforce as an example of a company that has components of the stack they need, but they are concerned about the high cost and complexity of implementing their solutions. They are looking for a more comprehensive and cost-effective solution.</td>\n",
       "    </tr>\n",
       "    <tr>\n",
       "      <th>75</th>\n",
       "      <td>Competition:\\n- No specific competitors mentioned, but Code Climate is considering other BI tools like Looker and Sigma Computing for exposing data to their business users.</td>\n",
       "    </tr>\n",
       "    <tr>\n",
       "      <th>248</th>\n",
       "      <td>Competition:\\n- The prospect mentions evaluating Salesforce's CDP and other marketing data platforms.\\n- They are interested in learning how Hightouch compares to these existing tools in their ecosystem.</td>\n",
       "    </tr>\n",
       "    <tr>\n",
       "      <th>154</th>\n",
       "      <td>Competition: The prospect mentions Rudderstack as a similar tool to Hightouch, but they are still in the exploratory phase and have not made a decision yet. They are open to exploring other options and are considering talking to Snowplow and other vendors.</td>\n",
       "    </tr>\n",
       "    <tr>\n",
       "      <th>234</th>\n",
       "      <td>Competition:\\n- No competitors mentioned in the transcript.</td>\n",
       "    </tr>\n",
       "    <tr>\n",
       "      <th>226</th>\n",
       "      <td>Competition: Overstock mentions RudderStack as a potential alternative to Hightouch. They also mention GameStop as a customer of Hightouch and express interest in learning more about how they use the platform.</td>\n",
       "    </tr>\n",
       "  </tbody>\n",
       "</table>\n",
       "</div>"
      ],
      "text/plain": [
       "                                                                                                                                                                                                                                                                                                                                                                                                                                                                                                                      0\n",
       "36                                                                                                                                                                                                                                                                                                                                                         Competition: The prospect is considering Snowflake as an alternative to BigQuery and is using Google Sheets as their current solution for data manipulation.\n",
       "357                                                                                                                                                                                                                                                                                                                                                                                              Competition: There is no mention of any specific competitors to Hightouch that Zego is considering or currently using.\n",
       "147                                                                                                                                                                                                                                                                                                                                                                                                                                                         Competition:\\n- No competitors mentioned in the transcript.\n",
       "398                                                                                                                                                                                                                                                                                                                                                                                                                         Competition: The prospect is considering other solutions like Supermetrics and Coefficient.\n",
       "84                                                                                                                                                                                                                                                                                                     Competition:\\n- DoubleVerify has had conversations with Census, another reverse ETL solution similar to Hightouch. They are considering different options and evaluating how each solution can meet their needs.\n",
       "181                                                                                                                                                                                                                                                                                                                                                                          Competition: Fivetran is currently being used by Achievers, but they are open to exploring other options in the market, such as Hightouch.\n",
       "305  Competition: \\n- Sunstate Equipment is considering Salesforce and PipeDrive as potential CRMs to migrate to. They are looking for a solution that allows them to integrate with different best-in-class tools and avoid using extensions in CRM app stores. They are also interested in exploring other tools like Badger Maps for territory management and would prefer to integrate directly with these tools using Hightouch's generic destinations or by requesting additions to Hightouch's destination list.\n",
       "7                                                                                                                                                                                                                                                                                                                                                                   Competition:\\n- Clearbit is mentioned as a competitor to Hightouch for the company's current use case of offline conversions and audience building.\n",
       "202                                                                                                                                                                                                                                                        Competition:\\n- The prospect mentions potential competitors or tools they may consider using in the future, such as Salesforce, Intercom, and other customer support tools. They also mention using custom integrations with tools like Twilio and SendGrid.\n",
       "256                                                                                                                                                                                                                                                                                                                                                                                                                                              Competition: No specific competitors were mentioned in the transcript.\n",
       "193                                                                                                                                                                                                                                                                                                                                                                                                                                              Competition: No specific competitors were mentioned in the transcript.\n",
       "344                                                                                                                                                                                                                                                                                                                                                                                                                                Competition: There was no mention of any competitors to Hightouch in the transcript.\n",
       "220                                                                                                                                                                                                                                                                                                                                                                                                     Competition: VeryChic is evaluating internal solutions like Snowflake and Referee as alternatives to Hightouch.\n",
       "119                                                                                                                                                                                                                                                                                                                                         Competition:\\n- The prospect mentioned doing research on various software platforms and found Hightouch on G2. It is unclear if they are considering any other competitors.\n",
       "31                                                                                                                                                                                                                                                                                                                                                                              Competition:\\n- The prospect mentions Segment as a CDP they have worked with in the past, but they are open to exploring other options.\n",
       "318                                                                                                                                                                                                                                                                                                                                                    Competition:\\n- The prospect mentioned considering Salesforce's Pardot as a marketing automation tool.\\n- They are also exploring other options such as HubSpot.\n",
       "297                                                                                                                                                                                                                                                                                                                                                                                                                                                                  Competition:\\n- No specific competitors mentioned.\n",
       "341                                                                                                                                                                                                                                                                                                                                Competition:\\n- The prospect is not currently using any specific competitors to Hightouch, but they are exploring other marketing automation platforms outside of Salesforce Pardot.\n",
       "316                                                                                                                                                                                                                                                                                                             Competition:\\n- The prospect is considering other CDP vendors like Segment, Salesforce CDP, and MParticle.\\n- They are also considering sticking with Simon Data if it is the best fit for their needs.\n",
       "20                                                                                                                                                                                                                                                                                                          Competition:\\n- The prospect mentions that Hightouch is one of the leading options they are considering for their reverse ETL needs. They are also evaluating other options, but do not specify which ones.\n",
       "5                                                                                                                                                                                                                                                                                               Competition:\\n- Betr is considering using tools like Talend Enterprise, Matillion, and SSIS for their data integration needs. They are also considering using Fivetran and dbt for their cloud-native technology stack.\n",
       "135                                                                                                                                                                                                                                                                                         Competition: Ria Health is considering other CDPs such as Fresh Paint, Rudder Stack, Segment, and Tilium. They are evaluating all HIPAA compliant CDPs and will make a decision based on price, capabilities, and features.\n",
       "376                                                                                                                                                                                                          Competition: The prospect mentioned that they were considering using Segment for identity resolution, but they have not implemented it yet. They also mentioned that they were talking to Dynamic Yield for personalization, but they are interested in exploring Hightouch's personalization API as well.\n",
       "385                                                                                                                                                                                                                                                                                                                                         Competition:\\n- StubHub is considering other alternatives, including a direct connection between BigQuery and Brace, as well as another tool recommended by Massive Rocket.\n",
       "379                                                                                                                                                                                                                                                                                                                                                                                 Competition: Shield Therapeutics is considering other app creators on the AppExchange but did not mention any specific competitors.\n",
       "42                                                                                                                                                                                                                                                                                   Competition: The prospect mentions ERP systems like SAP, Microsoft Dynamics 365, QuickBooks, and Workday as potential destinations for integrating Hightouch. They are interested in understanding the available ERP integrations.\n",
       "313                                                                                                                                                                                                                                                                                                                                      Competition: The prospect mentioned that they would consider evaluating other vendors if they are not satisfied with Adobe CDP. They did not mention any specific competitors.\n",
       "382                                                                                                                                                                                                                                                                                                                                            Competition: Continued is considering other CDPs, including Segment, as alternatives to Hightouch. They have previously evaluated Segment but were deterred by the cost.\n",
       "275                                                                                                                                                                                                                                                                                                                     Competition: The prospect is currently using Segment for event tracking and data feeding. They found Hightouch while searching for services that can connect Metabase to advertising platforms.\n",
       "351                                                                                                                                                                                                                                                                                                                                                                                                                                              Competition: No specific competitors were mentioned in the transcript.\n",
       "46                                                                                                                                                                                                                                                                       Competition: Removery has evaluated CDPs such as ActionIQ, BlueConic, and Segment in the past. They are open to exploring other options and are looking for a solution that can meet their specific needs and support their desired use cases.\n",
       "331                                                                                                                                                                                                                                                                                         Competition: TCARE has considered using Segment as a traditional CDP but found it to be limited in terms of their unique data model and the need to store sensitive data. They are now considering Hightouch as a solution.\n",
       "199                                                                                                                                                                                                                                                           Competition: The prospect mentions that they currently use Braze as their marketing activation tool and asks if Hightouch has integration with Braze. They also inquire about the possibility of creating extensions for other loyalty systems if needed.\n",
       "232                                                                                                                                                                                                                                                                                                                                                              Competition:\\n- Citylitics is considering Census and Airflow as alternative solutions to Hightouch. They are also using Fivetran for data integration.\n",
       "141                                                                                                                                                                                                                                                                                                                                                                                                                                              Competition: No specific competitors were mentioned in the transcript.\n",
       "41                                                                                                                                                                                                                              Competition: The prospect is considering other vendors such as Segment and exploring the connectors provided by Braze and AEP. They are looking for a solution that can bridge the gap between Snowflake and the messaging platforms without duplicating data or compromising security.\n",
       "239                                                                                                                                                                                                                                                                                                                                                                                  Competition:\\n- No specific competitors mentioned, but the prospect is familiar with traditional CDPs like HubSpot and Salesforce.\n",
       "342                                                                                                                                                                                                                                                                                                                                                                                                                        Competition: There is no mention of any specific competitors to Hightouch in the transcript.\n",
       "303                                                                                                                                                                                                                                                                                                                                                                                                                                              Competition: No specific competitors were mentioned in the transcript.\n",
       "168                                                                                                                                                                                                                                                                                                                     Competition:\\n- The prospect mentions using Twilio, Salesforce, and other platforms, but it is unclear if these are competitors to Hightouch or if they are used in conjunction with Hightouch.\n",
       "205                                                                                                                                                                                                                                                                                                                                                 Competition: The prospect mentioned a company called Improvado as a potential competitor to Hightouch. They are also considering using Fivetran for data ingestion.\n",
       "142                                                                                                                                                                                                                                                                                                                                                 Competition: The company has evaluated Salesforce CDP and considered using automotive-specific CDPs. They are also considering Snowplow as an event ingestion tool.\n",
       "66                                                                                                                                                                                                                                                                                                             Competition:\\n- Material's competitors include consulting firms like Merkle, Slalom, Accenture, and Deloitte. They have similar service offerings but may not have the same scale as these larger firms.\n",
       "246                                                                                                                                                                                                                                                                                       Competition: Thefork.com is considering two or three other reverse ETL tools in addition to Hightouch. They are interested in comparing the different vendors and assessing their capabilities through demos and assessments.\n",
       "63                                                                                                                                                                                                                            Competition:\\n- The prospect mentions Salesforce as an example of a company that has components of the stack they need, but they are concerned about the high cost and complexity of implementing their solutions. They are looking for a more comprehensive and cost-effective solution.\n",
       "75                                                                                                                                                                                                                                                                                                                                         Competition:\\n- No specific competitors mentioned, but Code Climate is considering other BI tools like Looker and Sigma Computing for exposing data to their business users.\n",
       "248                                                                                                                                                                                                                                                                                                         Competition:\\n- The prospect mentions evaluating Salesforce's CDP and other marketing data platforms.\\n- They are interested in learning how Hightouch compares to these existing tools in their ecosystem.\n",
       "154                                                                                                                                                                                                                                                    Competition: The prospect mentions Rudderstack as a similar tool to Hightouch, but they are still in the exploratory phase and have not made a decision yet. They are open to exploring other options and are considering talking to Snowplow and other vendors.\n",
       "234                                                                                                                                                                                                                                                                                                                                                                                                                                                         Competition:\\n- No competitors mentioned in the transcript.\n",
       "226                                                                                                                                                                                                                                                                                                   Competition: Overstock mentions RudderStack as a potential alternative to Hightouch. They also mention GameStop as a customer of Hightouch and express interest in learning more about how they use the platform."
      ]
     },
     "execution_count": 25,
     "metadata": {},
     "output_type": "execute_result"
    }
   ],
   "source": [
    "pd.DataFrame(competitions).sample(50)"
   ]
  },
  {
   "cell_type": "code",
   "execution_count": 28,
   "metadata": {},
   "outputs": [],
   "source": [
    "null_ids = [call['id'] for call in dataset if not call['company_info']['description']]"
   ]
  },
  {
   "cell_type": "code",
   "execution_count": 29,
   "metadata": {},
   "outputs": [
    {
     "data": {
      "text/plain": [
       "['3126725447696250703',\n",
       " '4913910317801999717',\n",
       " '2559383333213060406',\n",
       " '6585715818623855062',\n",
       " '749322851037989751',\n",
       " '610668421683570630',\n",
       " '3687633569981849561',\n",
       " '8707099994091951802',\n",
       " '587722167310194375',\n",
       " '7935081203646290251',\n",
       " '8113927756661462575',\n",
       " '496357154379990524',\n",
       " '5702548714993633943',\n",
       " '8267542907278197033',\n",
       " '9110254699274951099',\n",
       " '5876250805141239371',\n",
       " '5931359696662304422',\n",
       " '344857589829852788',\n",
       " '8572115626689051757',\n",
       " '7713591824053606767',\n",
       " '8078521062475391944',\n",
       " '5471152051700408355',\n",
       " '8881574695326731014']"
      ]
     },
     "execution_count": 29,
     "metadata": {},
     "output_type": "execute_result"
    }
   ],
   "source": [
    "null_ids"
   ]
  },
  {
   "cell_type": "code",
   "execution_count": 30,
   "metadata": {},
   "outputs": [],
   "source": [
    "example_id_map = {example['id']: example for example in train_examples}"
   ]
  },
  {
   "cell_type": "code",
   "execution_count": 35,
   "metadata": {},
   "outputs": [],
   "source": [
    "with open(\"/Users/andrew/dev/FastChat-Cue/data/prospect_lm/prospect_lm_v2_train_full_length.json\", \"w\") as f:\n",
    "    json.dump(train_examples, f)"
   ]
  },
  {
   "cell_type": "code",
   "execution_count": 38,
   "metadata": {},
   "outputs": [
    {
     "name": "stdout",
     "output_type": "stream",
     "text": [
      "prospect_lm_v2_train_split_max_2500.json\n",
      "prospect_lm_v2_train_full_length.json\n",
      "prospect_lm_v2_train_split_max_3000.json\n",
      "prospect_lm_v2_train_split_max_2000.json\n"
     ]
    }
   ],
   "source": [
    "import os\n",
    "data_dir = \"/Users/andrew/dev/FastChat-Cue/data/prospect_lm\"\n",
    "for filename in os.listdir(data_dir):\n",
    "    full_path = os.path.join(data_dir, filename)\n",
    "    with open(full_path, \"r\") as f:\n",
    "        data = json.load(f)\n",
    "    # for example in data:\n",
    "    #     for turn in example['conversations']:\n",
    "    #         del turn['topic']\n",
    "    with open(full_path, \"w\") as f:\n",
    "        json.dump(data, f, indent=4)\n",
    "    print(filename)"
   ]
  },
  {
   "cell_type": "code",
   "execution_count": 34,
   "metadata": {},
   "outputs": [
    {
     "name": "stdout",
     "output_type": "stream",
     "text": [
      "The following is a transcript of an introductory sales call between a sales representative at Hightouch, a data integration company, and a prospect at sideview.media. The sales rep at Hightouch is John Alderman, and the prospect at sideview.media is Elijah Gray. \n",
      "\n",
      "Hightouch overview:\n",
      "CDPs are used to help companies get data into their business tools like their marketing tools to run more targeted and effective campaigns. Hightouch provides a Composable CDP solution by helping companies leverage the data in their data warehouse for marketing campaigns. Hightouch syncs data from warehouses directly into SaaS tools to enable personalized marketing, sales and support experiences. It is different from a traditional CDP like Segment because traditional CDPs are less flexible.\n",
      "\n",
      "sideview.media information:\n",
      "Industry: None\n",
      "Size: None\n",
      "Description: None\n",
      "\n",
      "Key points from transcript:\n",
      "Use case: \n",
      "- The prospect, sideview.media, is a queer marketplace that started due to COVID. They have a database in Airtable with thousands of contacts and they want to sync that data with MailChimp. They want to ensure that the MailChimp tags are consistent with the tags in Airtable so that they can segment their emails appropriately.\n",
      "\n",
      "Current solution:\n",
      "- The prospect is currently using Outfunnel to sync data from Airtable to MailChimp, but there is no flow back from MailChimp to Airtable. They have to use Zapier or IntegraMAT to bring data from MailChimp back to Airtable.\n",
      "\n",
      "Objections:\n",
      "- The prospect is not familiar with the terminologies used by Hightouch, such as reverse ETL and complex CDP. They are unsure if Hightouch can solve their specific use case.\n",
      "\n",
      "Competition:\n",
      "- The prospect mentioned that they were using Outfunnel, but they are now considering Hightouch as an alternative. They are not aware of any other competitors in the space.\n",
      "\n",
      "Transcript:\n",
      "\n"
     ]
    }
   ],
   "source": [
    "print(example_id_map[null_ids[2]]['system_message'])"
   ]
  },
  {
   "cell_type": "code",
   "execution_count": null,
   "metadata": {},
   "outputs": [],
   "source": []
  }
 ],
 "metadata": {
  "kernelspec": {
   "display_name": "account-env",
   "language": "python",
   "name": "python3"
  },
  "language_info": {
   "codemirror_mode": {
    "name": "ipython",
    "version": 3
   },
   "file_extension": ".py",
   "mimetype": "text/x-python",
   "name": "python",
   "nbconvert_exporter": "python",
   "pygments_lexer": "ipython3",
   "version": "3.9.13"
  },
  "orig_nbformat": 4
 },
 "nbformat": 4,
 "nbformat_minor": 2
}
