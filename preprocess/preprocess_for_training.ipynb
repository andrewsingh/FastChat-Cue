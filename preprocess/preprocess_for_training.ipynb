{
 "cells": [
  {
   "cell_type": "code",
   "execution_count": null,
   "metadata": {},
   "outputs": [],
   "source": [
    "import json\n",
    "import re\n",
    "import pandas as pd\n",
    "pd.set_option('display.max_rows', 150)\n",
    "pd.set_option('display.max_colwidth', None)\n",
    "\n",
    "from transformers import AutoTokenizer\n",
    "from tqdm import tqdm\n",
    "from nltk import sent_tokenize"
   ]
  },
  {
   "cell_type": "code",
   "execution_count": null,
   "metadata": {},
   "outputs": [],
   "source": [
    "llama_tokenizer = AutoTokenizer.from_pretrained(\n",
    "        \"meta-llama/Llama-2-7b-hf\",\n",
    "        model_max_length=2048,\n",
    "        padding_side=\"right\",\n",
    "        use_fast=False,\n",
    ")\n",
    "\n",
    "def llama_seq_len(text):\n",
    "    return len(llama_tokenizer(text)['input_ids']) + 6"
   ]
  },
  {
   "cell_type": "code",
   "execution_count": null,
   "metadata": {},
   "outputs": [],
   "source": [
    "# segment_topic_pairs = []\n",
    "# for call in new_calls:\n",
    "#     for segment in call['segments']:\n",
    "#         segment_topic_pairs.append((segment['text'], segment['topics']))\n",
    "\n",
    "# segment_topic_df = pd.DataFrame(segment_topic_pairs, columns=['text', 'topics'])"
   ]
  },
  {
   "cell_type": "code",
   "execution_count": null,
   "metadata": {},
   "outputs": [],
   "source": [
    "with open('/home/ubuntu/speech_to_text/data/enriched_domains_with_empty_values_filled.json', \"r\") as f:\n",
    "    enriched_domains = json.load(f)\n",
    "\n",
    "domain_dict = {record['domain']: record for record in enriched_domains}"
   ]
  },
  {
   "cell_type": "code",
   "execution_count": null,
   "metadata": {},
   "outputs": [],
   "source": [
    "with open(\"/home/ubuntu/speech_to_text/data/matched_categories_simplified.json\", \"r\") as f:\n",
    "    category_dict = json.load(f)\n",
    "\n",
    "len(category_dict)"
   ]
  },
  {
   "cell_type": "code",
   "execution_count": null,
   "metadata": {},
   "outputs": [],
   "source": [
    "category_line_map = {\n",
    "    \"Lifecycle Marketing\": \"They want to use Hightouch to make their lifecycle marketing more effective.\",\n",
    "    \"Performance Marketing\": \"They want to use Hightouch to make their performance marketing more effective.\",\n",
    "    \"B2B SaaS (PLG)\": \"They want to use Hightouch to give more insights and lead prioritization to their sales team.\",\n",
    "    \"CDP Compete\": \"They are evaluating Hightouch versus traditional CDPs like Segment, MParticle, and Simon Data.\",\n",
    "    \"Census Compete\": \"They are evaluating Hightouch versus other Reverse ETL providers like Census.\",\n",
    "    \"LiveRamp Compete\": \"They are evaluating Hightouch versus other data enrichment and ad performance boosting solutions like LiveRamp.\"\n",
    "}    "
   ]
  },
  {
   "cell_type": "code",
   "execution_count": null,
   "metadata": {},
   "outputs": [],
   "source": [
    "def clean_text(text):\n",
    "    text_hightouch = re.sub(r\"hi(gh)?(\\s|-)?(touch|tech|treasure|tax|test|tips|tension|towers|tex)\", \"Hightouch\", text, flags=re.IGNORECASE)\n",
    "    return text_hightouch.strip()\n",
    "\n",
    "\n",
    "def get_info_record(company_info):\n",
    "    info_record = {}\n",
    "    for elem in company_info:\n",
    "        if elem['name'] == \"Name\" and elem['name'] in info_record:\n",
    "            curr_name = info_record[elem['name']]\n",
    "            new_name = elem['value']\n",
    "            if new_name and curr_name and len(new_name) < len(curr_name):\n",
    "                info_record[elem['name']] = new_name\n",
    "        else:\n",
    "            info_record[elem['name']] = elem['value']\n",
    "\n",
    "    if 'Website' in info_record and info_record['Website'] in domain_dict:\n",
    "        source_record = domain_dict[info_record['Website']]\n",
    "        if 'description' in source_record:\n",
    "            info_record['description'] = source_record['description']\n",
    "        elif 'organization' in source_record and 'short_description' in source_record['organization']:\n",
    "            info_record['description'] = source_record['organization']['short_description']\n",
    "\n",
    "        if 'Industry' not in info_record:\n",
    "            if 'category' in source_record:\n",
    "                info_record['Industry'] = source_record['category']['industry']\n",
    "            elif 'organization' in source_record:\n",
    "                info_record['Industry'] = source_record['organization']['industry']\n",
    "    \n",
    "    if 'Industry' not in info_record:\n",
    "        info_record['Industry'] = None\n",
    "    \n",
    "    if 'description' not in info_record:\n",
    "        info_record['description'] = None\n",
    "\n",
    "    if info_record['description'] and info_record['description'].strip().endswith('...'):\n",
    "        description_sents = sent_tokenize(info_record['description'])\n",
    "        new_desc = \" \".join(description_sents[:-1])\n",
    "        info_record['description'] = new_desc\n",
    "\n",
    "    if info_record['description']:\n",
    "        info_record['description'] = info_record['description'].split('\\n\\n')[0].strip()\n",
    "\n",
    "    filtered_record = {\n",
    "        \"name\": info_record['Name'],\n",
    "        \"industry\": info_record['Industry'],\n",
    "        \"description\": info_record['description'],\n",
    "    }\n",
    "\n",
    "    return filtered_record\n",
    "\n",
    "\n",
    "def clean_description(description, max_desc_len=80, margin=10):\n",
    "    if not description:\n",
    "        return description\n",
    "    description = description.strip()\n",
    "    if description.endswith('...'):\n",
    "        description_sents = sent_tokenize(description)\n",
    "        description = \" \".join(description_sents[:-1])\n",
    "\n",
    "    description = description.split('\\n\\n')[0].strip()\n",
    "    if llama_seq_len(description) > max_desc_len:\n",
    "        description_sents = sent_tokenize(description)\n",
    "        total_len = 0\n",
    "        new_sents = []\n",
    "        for sent in description_sents:\n",
    "            sent_len = llama_seq_len(sent)\n",
    "            if total_len + sent_len <= max_desc_len + margin:\n",
    "                new_sents.append(sent)\n",
    "                total_len += sent_len\n",
    "            else:\n",
    "                break\n",
    "        description = \" \".join(new_sents)\n",
    "\n",
    "    if len(description) == 0:\n",
    "        description = None\n",
    "    return description\n",
    "\n",
    "\n",
    "\n",
    "def get_system_message(company_info, categories):\n",
    "    category_lines = \"\\n\".join(['- ' + category_line_map[category] for category in categories if category in category_line_map])\n",
    "    industry_starts_with_vowel = company_info['industry'] and company_info['industry'][0].lower() in ['a', 'e', 'i', 'o', 'u']\n",
    "    system_message = f\"A sales call between a sales representative at Hightouch, a data integration company, and a prospect at {company_info['name']}, a{'n' if industry_starts_with_vowel else ''} {company_info['industry'].lower() + ' ' if company_info['industry'] else ''}company. Hightouch helps companies get data into business tools. The prospect's goal is to understand how Hightouch compares to their current solution for syncing data into business tools and how Hightouch can deliver value for the prospect's business. The prospect answers any questions that the sales rep asks them. The prospect also asks questions to the sales rep in order to learn more about Hightouch and how it can help the prospect's business.\"\n",
    "    cleaned_description = clean_description(company_info['description'])\n",
    "    if cleaned_description:\n",
    "        system_message += f\"\\n\\nHere is a description of {company_info['name']}:\\n{cleaned_description}\"\n",
    "    if len(category_lines) > 0:\n",
    "        system_message += f\"\\n\\nHere is some additional information about how {company_info['name']} is considering to use Hightouch:\\n{category_lines}\"\n",
    "    return system_message.strip()\n",
    "\n",
    "\n",
    "def get_example_from_call(call):\n",
    "    call_id = call['metadata']['id']\n",
    "    conversations = []\n",
    "    bad_topics = set(['Small Talk', 'Wrap-Up', 'Next Steps - Scheduliing'])\n",
    "    for segment in call['segments']:\n",
    "        segment_topics = set(segment['topics'])\n",
    "        if len(segment_topics) == 0 or (not segment_topics.issubset(bad_topics)):\n",
    "            speaker = \"sales rep\" if segment['speakerAffiliation'] == \"Internal\" else \"prospect\"\n",
    "            text = clean_text(segment['text'])\n",
    "            if len(conversations) > 0 and conversations[-1]['from'] == speaker:\n",
    "                conversations[-1]['value'] += \" \" + text\n",
    "            else:\n",
    "                conversations.append({\n",
    "                    \"from\": speaker,\n",
    "                    \"value\": text\n",
    "                })\n",
    "    info_record = get_info_record(call['company_info'])\n",
    "    categories = category_dict[call_id] if call_id in category_dict else []\n",
    "    system_message = get_system_message(info_record, categories)\n",
    "    output = {\n",
    "        \"id\": call_id,\n",
    "        \"title\": call['metadata']['title'],\n",
    "        \"system_message\": system_message,\n",
    "        \"conversations\": conversations\n",
    "    }\n",
    "    return output #, (llama_seq_len(info_record['description']) if info_record['description'] else 0)"
   ]
  },
  {
   "cell_type": "code",
   "execution_count": null,
   "metadata": {},
   "outputs": [],
   "source": [
    "with open(\"/home/ubuntu/speech_to_text/data/intro_calls_retranscribed_v2.json\", \"r\") as f:\n",
    "    new_calls = json.load(f)\n",
    "\n",
    "len(new_calls)"
   ]
  },
  {
   "cell_type": "code",
   "execution_count": null,
   "metadata": {},
   "outputs": [],
   "source": [
    "dataset = [get_example_from_call(call) for call in new_calls]"
   ]
  },
  {
   "cell_type": "code",
   "execution_count": null,
   "metadata": {},
   "outputs": [],
   "source": [
    "print(dataset[3]['system_message'])"
   ]
  },
  {
   "cell_type": "code",
   "execution_count": null,
   "metadata": {},
   "outputs": [],
   "source": [
    "system_messages = [(elem['system_message'], llama_seq_len(elem['system_message'])) for elem in dataset]\n"
   ]
  },
  {
   "cell_type": "code",
   "execution_count": null,
   "metadata": {},
   "outputs": [],
   "source": [
    "pd.DataFrame(system_messages)[1].plot.hist()"
   ]
  },
  {
   "cell_type": "code",
   "execution_count": null,
   "metadata": {},
   "outputs": [],
   "source": [
    "pd.DataFrame(system_messages).sort_values(by=1, ascending=False)[:20]"
   ]
  },
  {
   "cell_type": "code",
   "execution_count": null,
   "metadata": {},
   "outputs": [],
   "source": [
    "len(dataset)"
   ]
  },
  {
   "cell_type": "code",
   "execution_count": null,
   "metadata": {},
   "outputs": [],
   "source": [
    "with open(\"/home/ubuntu/FastChat/data/prospect_lm/prospect_lm_v1_intro_calls_full.json\", \"w+\") as f:\n",
    "    json.dump(dataset, f)"
   ]
  }
 ],
 "metadata": {
  "kernelspec": {
   "display_name": "account-env",
   "language": "python",
   "name": "python3"
  },
  "language_info": {
   "codemirror_mode": {
    "name": "ipython",
    "version": 3
   },
   "file_extension": ".py",
   "mimetype": "text/x-python",
   "name": "python",
   "nbconvert_exporter": "python",
   "pygments_lexer": "ipython3",
   "version": "3.8.10"
  },
  "orig_nbformat": 4
 },
 "nbformat": 4,
 "nbformat_minor": 2
}
